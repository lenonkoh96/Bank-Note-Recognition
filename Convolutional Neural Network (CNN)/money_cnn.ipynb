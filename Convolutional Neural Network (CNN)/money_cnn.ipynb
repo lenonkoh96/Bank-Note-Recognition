{
 "cells": [
  {
   "cell_type": "code",
   "execution_count": 2,
   "metadata": {},
   "outputs": [],
   "source": [
    "import cv2                 # working with, mainly resizing, images\n",
    "import numpy as np         # dealing with arrays\n",
    "import os                  # dealing with directories\n",
    "from random import shuffle # mixing up or currently ordered data that might lead our network astray in training.\n",
    "from tqdm import tqdm      # a nice pretty percentage bar for tasks. Thanks to viewer Daniel BA1/4hler for this suggestion\n",
    "from PIL import Image"
   ]
  },
  {
   "cell_type": "code",
   "execution_count": 4,
   "metadata": {},
   "outputs": [],
   "source": [
    "data=[]\n",
    "labels=[]\n",
    "\n",
    "s0=os.listdir(\"/sg\")\n",
    "for ss0 in s0:\n",
    "    imag=cv2.imread(\"/sg/\"+ss0)\n",
    "    img_from_ar = Image.fromarray(imag, 'RGB')\n",
    "    resized_image = img_from_ar.resize((50, 50))\n",
    "    data.append(np.array(resized_image))\n",
    "    labels.append(0)\n",
    "    \n",
    "s1=os.listdir(\"/RM1\")\n",
    "for ss1 in s1:\n",
    "    imag=cv2.imread(\"/RM1/\"+ss1)\n",
    "    img_from_ar = Image.fromarray(imag, 'RGB')\n",
    "    resized_image = img_from_ar.resize((50, 50))\n",
    "    data.append(np.array(resized_image))\n",
    "    labels.append(1) \n",
    "    \n",
    "s2=os.listdir(\"/RM2\")\n",
    "for ss2 in s2:\n",
    "    imag=cv2.imread(\"/RM2/\"+ss2)\n",
    "    img_from_ar = Image.fromarray(imag, 'RGB')\n",
    "    resized_image = img_from_ar.resize((50, 50))\n",
    "    data.append(np.array(resized_image))\n",
    "    labels.append(2)\n",
    "    \n",
    "s3=os.listdir(\"/RM5\")\n",
    "for ss3 in s3:\n",
    "    imag=cv2.imread(\"/RM5/\"+ss3)\n",
    "    img_from_ar = Image.fromarray(imag, 'RGB')\n",
    "    resized_image = img_from_ar.resize((50, 50))\n",
    "    data.append(np.array(resized_image))\n",
    "    labels.append(3)\n",
    "    \n",
    "s4=os.listdir(\"/RM10\")\n",
    "for ss4 in s4:\n",
    "    imag=cv2.imread(\"/RM10/\"+ss4)\n",
    "    img_from_ar = Image.fromarray(imag, 'RGB')\n",
    "    resized_image = img_from_ar.resize((50, 50))\n",
    "    data.append(np.array(resized_image))\n",
    "    labels.append(4)\n",
    "    \n",
    "s5=os.listdir(\"/RM20\")\n",
    "for ss5 in s5:\n",
    "    imag=cv2.imread(\"/RM20/\"+ss5)\n",
    "    img_from_ar = Image.fromarray(imag, 'RGB')\n",
    "    resized_image = img_from_ar.resize((50, 50))\n",
    "    data.append(np.array(resized_image))\n",
    "    labels.append(5)\n",
    "    \n",
    "s6=os.listdir(\"/RM50\")\n",
    "for ss6 in s6:\n",
    "    imag=cv2.imread(\"/RM50/\"+ss6)\n",
    "    img_from_ar = Image.fromarray(imag, 'RGB')\n",
    "    resized_image = img_from_ar.resize((50, 50))\n",
    "    data.append(np.array(resized_image))\n",
    "    labels.append(6)\n",
    "    \n",
    "s7=os.listdir(\"/RM100\")\n",
    "for ss7 in s7:\n",
    "    imag=cv2.imread(\"/RM100/\"+ss7)\n",
    "    img_from_ar = Image.fromarray(imag, 'RGB')\n",
    "    resized_image = img_from_ar.resize((50, 50))\n",
    "    data.append(np.array(resized_image))\n",
    "    labels.append(7)\n",
    "    \n",
    "logos=np.array(data)\n",
    "labels=np.array(labels)\n",
    "\n",
    "np.save(\"logos\",logos)\n",
    "np.save(\"labels\",labels)"
   ]
  },
  {
   "cell_type": "code",
   "execution_count": 8,
   "metadata": {},
   "outputs": [
    {
     "data": {
      "text/plain": [
       "4000"
      ]
     },
     "execution_count": 8,
     "metadata": {},
     "output_type": "execute_result"
    }
   ],
   "source": [
    "logos=np.load(\"logos.npy\")\n",
    "labels=np.load(\"labels.npy\")\n",
    "\n",
    "s=np.arange(logos.shape[0])\n",
    "np.random.shuffle(s)\n",
    "logos=logos[s]\n",
    "labels=labels[s]\n",
    "\n",
    "num_classes=len(np.unique(labels))\n",
    "data_length=len(logos)\n",
    "num_classes=len(np.unique(labels))\n",
    "data_length=len(logos)\n",
    "\n",
    "logos.shape\n",
    "labels.shape[0]"
   ]
  },
  {
   "cell_type": "code",
   "execution_count": 6,
   "metadata": {},
   "outputs": [
    {
     "name": "stdout",
     "output_type": "stream",
     "text": [
      "XTr 3200\n",
      "XTs 800\n",
      "yTr 3200\n",
      "yTs 800\n"
     ]
    },
    {
     "data": {
      "text/plain": [
       "(3200, 50, 50, 3)"
      ]
     },
     "execution_count": 6,
     "metadata": {},
     "output_type": "execute_result"
    }
   ],
   "source": [
    "(x_train,x_test)=logos[(int)(0.2*data_length):],logos[:(int)(0.2*data_length)]\n",
    "x_train = x_train.astype('float32')/255\n",
    "x_test = x_test.astype('float32')/255\n",
    "train_length=len(x_train)\n",
    "test_length=len(x_test)\n",
    "\n",
    "(y_train,y_test)=labels[(int)(0.2*data_length):],labels[:(int)(0.2*data_length)]\n",
    "print(\"XTr\",train_length)\n",
    "print(\"XTs\",test_length)\n",
    "print(\"yTr\",len(y_train))\n",
    "print(\"yTs\",len(y_test))\n",
    "x_train.shape"
   ]
  },
  {
   "cell_type": "code",
   "execution_count": null,
   "metadata": {},
   "outputs": [],
   "source": [
    "import keras\n",
    "from keras.utils import np_utils\n",
    "from keras.callbacks import TensorBoard\n",
    "#One hot encoding\n",
    "y_train=keras.utils.to_categorical(y_train,num_classes)\n",
    "y_test=keras.utils.to_categorical(y_test,num_classes)\n",
    "\n",
    "from keras.models import Sequential\n",
    "from keras.layers import Conv2D,MaxPooling2D,Dense,Flatten,Dropout\n",
    "#make model\n",
    "model=Sequential()\n",
    "model.add(Conv2D(filters=16,kernel_size=3,padding=\"same\",activation=\"relu\",input_shape=(50,50,3)))\n",
    "model.add(MaxPooling2D(pool_size=3))\n",
    "model.add(Conv2D(filters=32,kernel_size=3,padding=\"same\",activation=\"relu\"))\n",
    "model.add(MaxPooling2D(pool_size=3))\n",
    "model.add(Conv2D(filters=64,kernel_size=3,padding=\"same\",activation=\"relu\"))\n",
    "model.add(MaxPooling2D(pool_size=3))\n",
    "# PREVENT OVERFITTING\n",
    "model.add(Dropout(0.2))\n",
    "model.add(Flatten())\n",
    "model.add(Dense(219,activation=\"relu\"))\n",
    "model.add(Dropout(0.2))\n",
    "# OUTPUT\n",
    "model.add(Dense(8,activation=\"softmax\"))\n",
    "model.summary()\n",
    "model.compile(loss='categorical_crossentropy', optimizer='adam', \n",
    "                  metrics=['accuracy'])\n",
    "tensorboard = TensorBoard(log_dir='./logs', histogram_freq=0,write_graph=True, write_images=False)\n",
    "model.fit(x_train,y_train,batch_size=50\n",
    "          ,epochs=80,validation_data=(x_test, y_test),verbose=1,callbacks=[tensorboard])\n",
    "model.save('money.h5')  # model = load_model('my_model.h5')\n",
    "score = model.evaluate(x_test, y_test, verbose=1)\n",
    "print('\\n', 'Test accuracy:', score[1])"
   ]
  },
  {
   "cell_type": "code",
   "execution_count": null,
   "metadata": {},
   "outputs": [],
   "source": [
    "#%tensorboard --logdir \"Desktop/Computer Intelligent/Assigment/logs\"\n",
    "\n",
    "# Load TENSORBOARD\n",
    "#%load_ext tensorboard\n",
    "# Start TENSORBOARD\n",
    "%reload_ext tensorboard\n",
    "%tensorboard --logdir \"Desktop/Computer Intelligent/Assigment/logs\""
   ]
  },
  {
   "cell_type": "code",
   "execution_count": 9,
   "metadata": {},
   "outputs": [
    {
     "name": "stderr",
     "output_type": "stream",
     "text": [
      "Using TensorFlow backend.\n"
     ]
    },
    {
     "name": "stdout",
     "output_type": "stream",
     "text": [
      "WARNING:tensorflow:From C:\\ProgramData\\Anaconda3\\lib\\site-packages\\keras\\backend\\tensorflow_backend.py:4070: The name tf.nn.max_pool is deprecated. Please use tf.nn.max_pool2d instead.\n",
      "\n",
      "WARNING:tensorflow:From C:\\ProgramData\\Anaconda3\\lib\\site-packages\\keras\\backend\\tensorflow_backend.py:422: The name tf.global_variables is deprecated. Please use tf.compat.v1.global_variables instead.\n",
      "\n",
      "Loaded model from disk\n"
     ]
    },
    {
     "name": "stderr",
     "output_type": "stream",
     "text": [
      "Exception in Tkinter callback\n",
      "Traceback (most recent call last):\n",
      "  File \"C:\\ProgramData\\Anaconda3\\lib\\site-packages\\PIL\\Image.py\", line 2774, in open\n",
      "    fp.seek(0)\n",
      "AttributeError: 'str' object has no attribute 'seek'\n",
      "\n",
      "During handling of the above exception, another exception occurred:\n",
      "\n",
      "Traceback (most recent call last):\n",
      "  File \"C:\\ProgramData\\Anaconda3\\lib\\tkinter\\__init__.py\", line 1705, in __call__\n",
      "    return self.func(*args)\n",
      "  File \"<ipython-input-9-f2d85f1b2a9f>\", line 25, in askfile\n",
      "    obj = predict_logo(root.filename)\n",
      "  File \"<ipython-input-9-f2d85f1b2a9f>\", line 72, in predict_logo\n",
      "    pic=mpimg.imread(file)\n",
      "  File \"C:\\ProgramData\\Anaconda3\\lib\\site-packages\\matplotlib\\image.py\", line 1410, in imread\n",
      "    with Image.open(fname) as image:\n",
      "  File \"C:\\ProgramData\\Anaconda3\\lib\\site-packages\\PIL\\Image.py\", line 2776, in open\n",
      "    fp = io.BytesIO(fp.read())\n",
      "AttributeError: 'str' object has no attribute 'read'\n"
     ]
    },
    {
     "name": "stdout",
     "output_type": "stream",
     "text": [
      "1/1 [==============================] - 0s 87ms/step\n"
     ]
    },
    {
     "name": "stderr",
     "output_type": "stream",
     "text": [
      "Exception in Tkinter callback\n",
      "Traceback (most recent call last):\n",
      "  File \"C:\\ProgramData\\Anaconda3\\lib\\tkinter\\__init__.py\", line 1705, in __call__\n",
      "    return self.func(*args)\n",
      "  File \"<ipython-input-9-f2d85f1b2a9f>\", line 45, in askfile\n",
      "    label.image = render # keep a reference!\n",
      "AttributeError: 'NoneType' object has no attribute 'image'\n"
     ]
    },
    {
     "name": "stdout",
     "output_type": "stream",
     "text": [
      "1/1 [==============================] - 0s 2ms/step\n"
     ]
    },
    {
     "name": "stderr",
     "output_type": "stream",
     "text": [
      "Exception in Tkinter callback\n",
      "Traceback (most recent call last):\n",
      "  File \"C:\\ProgramData\\Anaconda3\\lib\\tkinter\\__init__.py\", line 1705, in __call__\n",
      "    return self.func(*args)\n",
      "  File \"<ipython-input-9-f2d85f1b2a9f>\", line 45, in askfile\n",
      "    label.image = render # keep a reference!\n",
      "AttributeError: 'NoneType' object has no attribute 'image'\n"
     ]
    },
    {
     "name": "stdout",
     "output_type": "stream",
     "text": [
      "1/1 [==============================] - 0s 2ms/step\n"
     ]
    },
    {
     "name": "stderr",
     "output_type": "stream",
     "text": [
      "Exception in Tkinter callback\n",
      "Traceback (most recent call last):\n",
      "  File \"C:\\ProgramData\\Anaconda3\\lib\\tkinter\\__init__.py\", line 1705, in __call__\n",
      "    return self.func(*args)\n",
      "  File \"<ipython-input-9-f2d85f1b2a9f>\", line 45, in askfile\n",
      "    label.image = render # keep a reference!\n",
      "AttributeError: 'NoneType' object has no attribute 'image'\n"
     ]
    },
    {
     "name": "stdout",
     "output_type": "stream",
     "text": [
      "1/1 [==============================] - 0s 2ms/step\n"
     ]
    },
    {
     "name": "stderr",
     "output_type": "stream",
     "text": [
      "Exception in Tkinter callback\n",
      "Traceback (most recent call last):\n",
      "  File \"C:\\ProgramData\\Anaconda3\\lib\\tkinter\\__init__.py\", line 1705, in __call__\n",
      "    return self.func(*args)\n",
      "  File \"<ipython-input-9-f2d85f1b2a9f>\", line 45, in askfile\n",
      "    label.image = render # keep a reference!\n",
      "AttributeError: 'NoneType' object has no attribute 'image'\n"
     ]
    }
   ],
   "source": [
    "# load json and create model\n",
    "from tkinter import *\n",
    "from tkinter import filedialog\n",
    "from PIL import Image, ImageTk\n",
    "import cv2 as cv\n",
    "import matplotlib.pyplot as plt\n",
    "import matplotlib.image as mpimg\n",
    "import numpy as np\n",
    "from numpy import loadtxt\n",
    "from keras.models import load_model\n",
    "loaded_model = load_model('money.h5')\n",
    "\"\"\"json_file = open('model.json', 'r')\n",
    "loaded_model_json = json_file.read()\n",
    "json_file.close()\n",
    "loaded_model = model_from_json(loaded_model_json)\n",
    "# load weights into new model\n",
    "loaded_model.load_weights(\"model.h5\")\"\"\"\n",
    "print(\"Loaded model from disk\")\n",
    "\n",
    "font = cv.FONT_HERSHEY_SIMPLEX\n",
    "\n",
    "def askfile():\n",
    "    root.filename = filedialog.askopenfilename(initialdir = \"C:/Users/acer/Desktop/New folder/\",title = \"Select file\",filetypes = ((\"jpeg files\",\"*.jpg\"),(\"all files\",\"*.*\")))\n",
    "    img = cv.imread(str(root.filename))\n",
    "    obj = predict_logo(root.filename)\n",
    "    scale_percent = 15 # percent of original size\n",
    "    width = int(img.shape[1] * scale_percent / 100)\n",
    "    height = int(img.shape[0] * scale_percent / 100)\n",
    "    dim = (width, height)\n",
    "    resized = cv.resize(img, dim, interpolation = cv.INTER_AREA)\n",
    "    \n",
    "    # Create Text background\n",
    "    resized[:int((height*10)/100),:width] = [0,0,0]\n",
    "    cv.putText(resized,obj,(10,30), font, 1,(255,255,255),2)\n",
    "    #cv.imshow('',resized)\n",
    "    \n",
    "    cv.imwrite( \"output.jpg\", resized )\n",
    "    \n",
    "    \n",
    "    \n",
    "    load = Image.open(\"output.jpg\")\n",
    "    render = ImageTk.PhotoImage(load)\n",
    "    \n",
    "    label = Label(frame2, image=render,justify = CENTER).grid(column=0,  row=0, padx = 5 , pady = 1, ipadx=20)\n",
    "    label.image = render # keep a reference!\n",
    "    label.pack()\n",
    "\n",
    "def convert_to_array(img):\n",
    "    im = cv.imread(img)\n",
    "    img = Image.fromarray(im, 'RGB')\n",
    "    image = img.resize((50, 50))\n",
    "    return np.array(image)\n",
    "def get_logo_name(label):\n",
    "    if label==0:\n",
    "        return \"SG\"\n",
    "    if label==1:\n",
    "        return \"RM1\"\n",
    "    if label==2:\n",
    "        return \"RM2\"\n",
    "    if label==3:\n",
    "        return \"RM5\"\n",
    "    if label==4:\n",
    "        return \"RM10\"\n",
    "    if label==5:\n",
    "        return \"RM20\"\n",
    "    if label==6:\n",
    "        return \"RM50\"\n",
    "    if label==7:\n",
    "        return \"RM100\"\n",
    "\n",
    "def predict_logo(file):\n",
    "    pic=mpimg.imread(file)\n",
    "    ar=convert_to_array(file)\n",
    "    ar=ar/255\n",
    "    label=1\n",
    "    a=[]\n",
    "    a.append(ar)\n",
    "    a=np.array(a)\n",
    "    score=loaded_model.predict(a,verbose=1)\n",
    "    label_index=np.argmax(score)\n",
    "    acc=np.max(score)\n",
    "    logo=get_logo_name(label_index)\n",
    "    return logo\n",
    "    \n",
    "if __name__ == '__main__':\n",
    "    root = Tk()\n",
    "\n",
    "    frame1 = Frame(root, height = 50, bd = 0,pady = 20)\n",
    "    frame1.pack(side = TOP)\n",
    "    frame2 = Frame(root, height = 50, pady = 10)\n",
    "    frame2.pack()\n",
    "\n",
    "    B = Button(frame1, text=\"Please select a image to recognize\",justify = CENTER, \n",
    "                         command=askfile).grid(column=0,  row=2, padx = 5 , pady = 1, ipadx=20)\n",
    "\n",
    "\n",
    "    root.mainloop()"
   ]
  },
  {
   "cell_type": "code",
   "execution_count": null,
   "metadata": {},
   "outputs": [],
   "source": []
  }
 ],
 "metadata": {
  "kernelspec": {
   "display_name": "Python 3",
   "language": "python",
   "name": "python3"
  },
  "language_info": {
   "codemirror_mode": {
    "name": "ipython",
    "version": 3
   },
   "file_extension": ".py",
   "mimetype": "text/x-python",
   "name": "python",
   "nbconvert_exporter": "python",
   "pygments_lexer": "ipython3",
   "version": "3.7.3"
  }
 },
 "nbformat": 4,
 "nbformat_minor": 2
}
